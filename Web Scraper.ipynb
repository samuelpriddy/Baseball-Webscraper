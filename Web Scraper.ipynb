{
 "cells": [
  {
   "cell_type": "code",
   "execution_count": 1,
   "id": "73acc5dd",
   "metadata": {},
   "outputs": [],
   "source": [
    "# Package Installation\n",
    "import requests\n",
    "from bs4 import BeautifulSoup"
   ]
  },
  {
   "cell_type": "code",
   "execution_count": 5,
   "id": "559ff778",
   "metadata": {},
   "outputs": [],
   "source": [
    "# URL Setup\n",
    "URL = \"https://elonphoenix.com/sports/baseball/roster\"\n",
    "# Tested URLS\n",
    "# Wagner : Working\n",
    "# Elon : Working\n",
    "# ECU : Working\n",
    "# VCU : Working\n",
    "# UNC : Not Working\n",
    "\n",
    "page = requests.get(URL)\n",
    "soup = BeautifulSoup(page.content, \"html.parser\")"
   ]
  },
  {
   "cell_type": "code",
   "execution_count": 6,
   "id": "c6b8f4f7",
   "metadata": {},
   "outputs": [],
   "source": [
    "# Array Setup\n",
    "fields = ['Number', 'Name', 'Position', 'Height(inches)', 'Weight(lbs)']\n",
    "\n",
    "rows = []"
   ]
  },
  {
   "cell_type": "code",
   "execution_count": 7,
   "id": "064ffb1e",
   "metadata": {},
   "outputs": [
    {
     "name": "stdout",
     "output_type": "stream",
     "text": [
      "[['1', 'Tanner Holliman', 'Infielder', 70, '193 lbs'], ['2', 'Kenny Mallory Jr.', 'Outfielder', 75, '202 lbs'], ['3', 'Tate Ostrowski', 'Right-Handed', 73, '175 lbs'], ['4', 'Alex Duffey', 'Catcher/Utility', 72, '210 lbs'], ['5', 'Tyler Johns', 'Outfield/Left-Handed', 74, '195 lbs'], ['6', 'Justin  Szestowicki', 'Right-Handed', 70, '185 lbs'], ['7', 'Lawson Wheeler', 'Second', 71, '160 lbs'], ['8', 'Mason Abromitis', 'Infield', 74, '185 lbs'], ['9', 'Will Vergantino', 'Shortstop', 73, '204 lbs'], ['10', 'Ben Sieracki', 'Right-Handed', 73, '190 lbs'], ['11', 'Vince Fattore', 'Center', 71, '205 lbs'], ['13', 'Ryan Sprock', 'Infielder/Right-Handed', 70, '205 lbs'], ['14', 'Nathan  Wingenroth', 'Outfield', 72, '165 lbs'], ['15', 'Tank  Yaghoubi', 'Outfield', 70, '170 lbs'], ['16', 'Christo Garrelts', 'Right-Handed', 76, '200 lbs'], ['17', 'James Broderick', 'Infielder', 72, '185 lbs'], ['18', 'Troy McGirt', 'First', 73, '219 lbs'], ['19', 'Justin Mitrovich', 'Right-Handed', 75, '200 lbs'], ['20', 'Ethan Haislip', 'Right-Handed', 71, '200 lbs'], ['21', 'Adam Berry', 'Outfield', 74, '210 lbs'], ['22', 'Charlie Granatell', 'Outfielder', 71, '200 lbs'], ['23', 'Tanner McCammon', 'Infield', 75, '195 lbs'], ['24', 'Cole Mascolo', 'Outfielder', 70, '188 lbs'], ['25', 'Connor Offshack', 'Third', 73, '194 lbs'], ['26', 'Liam Dabagian', 'Left-Handed', 72, '181 lbs'], ['27', 'Joe Yovino', 'Catcher', 72, '210 lbs'], ['28', 'Henry  Cone', 'Right-Handed', 73, '210 lbs'], ['29', 'Trey  Tiffan', 'First', 75, '210 lbs'], ['30', 'Sam Nomura', 'Right-Handed', 71, '185 lbs'], ['31', 'Tristan Corcoran', 'Right-Handed', 74, '192 lbs'], ['32', 'Nolan  Straniero', 'Right-Handed', 74, '200 lbs'], ['33', 'Henry  Wolfe', 'Catcher', 74, '195 lbs'], ['34', 'Carson Wehner', 'Right-Handed', 73, '175 lbs'], ['36', 'Itai Spinoza', 'Left-Handed', 69, '186 lbs'], ['37', 'Kolby  Pascarelli', 'Left-Handed', 74, '195 lbs'], ['38', 'Hudson  Narke', 'Right-Handed', 71, '175 lbs'], ['44', 'Shane Paradine', 'Catcher', 72, '205 lbs']]\n"
     ]
    }
   ],
   "source": [
    "# Scraping and Array Fill Up\n",
    "players = soup.find_all(\"li\", class_=\"sidearm-roster-player\")\n",
    "\n",
    "for player in players:\n",
    "    # Gathering Data\n",
    "    number = player.find(\"span\", class_=\"sidearm-roster-player-jersey-number\").text.strip()\n",
    "    name = player.find(\"h3\").text.strip()\n",
    "    position = player.find(\"span\", class_=\"text-bold\").text.split()[0].strip()\n",
    "    weight = player.find(\"span\", class_=\"sidearm-roster-player-weight\").text.strip()\n",
    "    height = player.find(\"span\", class_=\"sidearm-roster-player-height\").text.strip()\n",
    "    # Convert Height to inches\n",
    "    measurements = height.replace(\"'\", '\"').split('\"')\n",
    "    height = int(measurements[0]) * 12 + int(measurements[1])\n",
    "    # Append to Array\n",
    "    rows.append([number, name, position, height, weight])\n",
    "    \n",
    "print(rows)"
   ]
  },
  {
   "cell_type": "code",
   "execution_count": 158,
   "id": "d8f404a5",
   "metadata": {},
   "outputs": [
    {
     "name": "stdout",
     "output_type": "stream",
     "text": [
      "Top:  50.25\n",
      "Bot:  18.0\n",
      "Top:  50.25\n",
      "Bot:  18.0\n",
      "Top:  50.25\n",
      "Bot:  18.0\n",
      "Top:  49.552083333333336\n",
      "Bot:  17.75\n",
      "Top:  50.25\n",
      "Bot:  18.0\n",
      "Top:  50.94791666666667\n",
      "Bot:  18.25\n",
      "Top:  49.552083333333336\n",
      "Bot:  17.75\n",
      "Top:  51.645833333333336\n",
      "Bot:  18.5\n",
      "Top:  47.458333333333336\n",
      "Bot:  17.0\n",
      "Top:  52.34375\n",
      "Bot:  18.75\n",
      "Top:  50.94791666666667\n",
      "Bot:  18.25\n",
      "Top:  50.94791666666667\n",
      "Bot:  18.25\n",
      "Top:  52.34375\n",
      "Bot:  18.75\n",
      "Top:  51.645833333333336\n",
      "Bot:  18.5\n",
      "Top:  52.34375\n",
      "Bot:  18.75\n",
      "Top:  48.85416666666667\n",
      "Bot:  17.5\n",
      "Top:  51.645833333333336\n",
      "Bot:  18.5\n",
      "Top:  49.552083333333336\n",
      "Bot:  17.75\n",
      "Top:  51.645833333333336\n",
      "Bot:  18.5\n",
      "Top:  52.34375\n",
      "Bot:  18.75\n",
      "Top:  51.645833333333336\n",
      "Bot:  18.5\n",
      "Top:  52.34375\n",
      "Bot:  18.75\n",
      "Top:  50.25\n",
      "Bot:  18.0\n",
      "Top:  50.25\n",
      "Bot:  18.0\n",
      "Top:  50.25\n",
      "Bot:  18.0\n",
      "Top:  52.34375\n",
      "Bot:  18.75\n",
      "Top:  52.34375\n",
      "Bot:  18.75\n",
      "Top:  50.25\n",
      "Bot:  18.0\n",
      "Top:  48.85416666666667\n",
      "Bot:  17.5\n",
      "Top:  51.645833333333336\n",
      "Bot:  18.5\n",
      "Top:  51.645833333333336\n",
      "Bot:  18.5\n",
      "Top:  52.34375\n",
      "Bot:  18.75\n",
      "Top:  52.34375\n",
      "Bot:  18.75\n",
      "Top:  49.552083333333336\n",
      "Bot:  17.75\n",
      "Top:  48.85416666666667\n",
      "Bot:  17.5\n",
      "Top:  52.34375\n",
      "Bot:  18.75\n",
      "Top:  51.645833333333336\n",
      "Bot:  18.5\n",
      "Top:  53.04166666666667\n",
      "Bot:  19.0\n",
      "Top:  52.34375\n",
      "Bot:  18.75\n",
      "Top:  53.04166666666667\n",
      "Bot:  19.0\n",
      "Top:  50.25\n",
      "Bot:  18.0\n",
      "Top:  52.34375\n",
      "Bot:  18.75\n",
      "Top:  50.94791666666667\n",
      "Bot:  18.25\n",
      "Top:  51.645833333333336\n",
      "Bot:  18.5\n"
     ]
    }
   ],
   "source": [
    "# Strike Zone Analysis\n",
    "# Using the following proportions: https://hpc.anatomy4sculptors.com/\n",
    "\n",
    "for row in rows:\n",
    "    head_unit = row[3]/8.0\n",
    "    zone_bottom = head_unit*2.0\n",
    "    shoulders = head_unit * (20/3)\n",
    "    waist = head_unit*4.5\n",
    "    zone_top = (shoulders+waist)/2.0\n",
    "    print(f\"Top: \", zone_top)\n",
    "    print(f\"Bot: \", zone_bottom)"
   ]
  },
  {
   "cell_type": "code",
   "execution_count": null,
   "id": "9fd39ad6",
   "metadata": {},
   "outputs": [],
   "source": []
  }
 ],
 "metadata": {
  "kernelspec": {
   "display_name": "Python 3 (ipykernel)",
   "language": "python",
   "name": "python3"
  },
  "language_info": {
   "codemirror_mode": {
    "name": "ipython",
    "version": 3
   },
   "file_extension": ".py",
   "mimetype": "text/x-python",
   "name": "python",
   "nbconvert_exporter": "python",
   "pygments_lexer": "ipython3",
   "version": "3.10.9"
  }
 },
 "nbformat": 4,
 "nbformat_minor": 5
}
